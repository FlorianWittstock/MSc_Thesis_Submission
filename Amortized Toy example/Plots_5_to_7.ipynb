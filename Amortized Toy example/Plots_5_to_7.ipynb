{
 "cells": [
  {
   "attachments": {},
   "cell_type": "markdown",
   "metadata": {},
   "source": [
    "### Plot 5"
   ]
  },
  {
   "cell_type": "code",
   "execution_count": null,
   "metadata": {},
   "outputs": [],
   "source": [
    "import numpy as np\n",
    "import scipy as sp\n",
    "import matplotlib.pyplot as plt\n",
    "\n",
    "def joint_density(x):\n",
    "    return sp.stats.norm.pdf(x, loc=5, scale=1) * sp.stats.norm.pdf(5.5, loc=x, scale=1)\n",
    "def target_joint_density(x):\n",
    "    return np.minimum(15000, np.maximum(0, 50*(x-4)**5)) * joint_density(x)\n",
    "def alternative_proposal(x):\n",
    "    return np.sqrt(target_joint_density(x)*joint_density(x))\n",
    "\n",
    "#calculate gradient of target_joint_density\n",
    "def gradient_target_joint_density(x):\n",
    "    return 250*(x-4)**4 * joint_density(x) + np.minimum(15000, np.maximum(0, 50*(x-4)**5)) * sp.stats.norm.pdf(5, loc=x, scale=1)\n",
    "\n",
    "#plot optimal proposal\n",
    "x = np.linspace(0, 12, 1000)\n",
    "plt.figure(figsize=(10, 5))\n",
    "plt.plot(x,joint_density(x), label='p(x,y)')\n",
    "plt.plot(x,target_joint_density(x)/600, label='f(x)p(x,y)')\n",
    "plt.plot(x,alternative_proposal(x)/10, label='Alternative TARIS proposal')\n",
    "plt.xlabel('x')\n",
    "plt.xlim(2, 12)\n",
    "plt.legend()"
   ]
  },
  {
   "attachments": {},
   "cell_type": "markdown",
   "metadata": {},
   "source": [
    "### Plot 6"
   ]
  },
  {
   "cell_type": "code",
   "execution_count": null,
   "metadata": {},
   "outputs": [],
   "source": [
    "# For this plot we need to train amortized TABI and sample from it\n",
    "#then we downlad samples\n",
    "\n",
    "import hdf5storage\n",
    "\n",
    "#data_1 = hdf5storage.loadmat('')    #insert path to samples from q1\n",
    "#data_2 = hdf5storage.loadmat('')    #insert path to samples from q2\n",
    "\n",
    "data_1 = hdf5storage.loadmat('/Users/florianwittstock/Documents/ms_thesis_example/TARIS/Amortized/New_Experiment/AMCI_VERSIOM/amci/src/amci/q1/samples_should_use.mat')\n",
    "data_2 = hdf5storage.loadmat('/Users/florianwittstock/Documents/ms_thesis_example/TARIS/Amortized/New_Experiment/AMCI_VERSIOM/amci/src/amci/q2/samples_old.mat')\n",
    "\n",
    "\n",
    "#and start plot\n",
    "\n",
    "import numpy as np\n",
    "import scipy as sp\n",
    "import matplotlib.pyplot as plt \n",
    "\n",
    "y_1 = data_1['y'][20][0]\n",
    "y_1\n",
    "\n",
    "def target_joint_density(x):\n",
    "    return np.minimum(15000, np.maximum(0, 50*(x-4)**5)) * joint_x(x)\n",
    "\n",
    "def joint_x(x):\n",
    "    return sp.stats.norm.pdf(x, loc=5, scale=1) * sp.stats.norm.pdf(y_1, loc=x, scale=1)  \n",
    "\n",
    "def alternative_optimal_proposal(x):\n",
    "    return np.square(target_joint_density(x)*joint_x(x))\n",
    "\n",
    "x = np.linspace(0, 10, 1000)\n",
    "plt.plot(x, 5*joint_x(x))\n",
    "plt.plot(x, target_joint_density(x)/100)\n",
    "plt.hist(data_1['x_samples_q1'][20], bins=100, density=True)\n",
    "plt.legend(['p(x,y)', 'f(x)p(x,y)', 'samples'])"
   ]
  },
  {
   "cell_type": "markdown",
   "metadata": {},
   "source": [
    "### Plot 7"
   ]
  },
  {
   "cell_type": "code",
   "execution_count": null,
   "metadata": {},
   "outputs": [],
   "source": [
    "import matplotlib.pyplot as plt\n",
    "import hdf5storage\n",
    "import importlib\n",
    "import estimators\n",
    "import yaml\n",
    "import os \n",
    "importlib.reload(estimators)\n",
    "from estimators import compute_ground_truth_TARIS, compute_TARIS_for_n, compute_ground_truth_TABI, compute_TABI_for_n\n",
    "\n",
    "#import and calculate average ReMSEs TARIS\n",
    "with open('config_1d_non_iterative.yaml') as f:\n",
    "    config = yaml.safe_load(f)\n",
    "dir = os.path.dirname(config['config'][\"checkpoint_q_ratio\"])\n",
    "path = os.path.join(dir, 'samples.mat')\n",
    "data = hdf5storage.loadmat(path)\n",
    "\n",
    "n_values = [100, 250, 400, 550, 700, 850, 1000, 2500, 4000, 5500, 7000, 8500, 10000, \n",
    "            25000, 40000, 55000, 70000, 85000, 100000, 250000, 400000, 550000, 700000, 850000, 1000000]\n",
    "ground_truth_array = compute_ground_truth_TARIS(data)\n",
    "\n",
    "results_TARIS = {}\n",
    "for n in n_values:\n",
    "    print(f\"Computing for n = {n}\")\n",
    "    results_TARIS[n] = compute_TARIS_for_n(data, n, ground_truth_array)\n",
    "    \n",
    "average_ReMSE_TARIS = []\n",
    "\n",
    "for n in n_values:\n",
    "    average_ReMSE_TARIS.append(np.mean(results_TARIS[n][0]))\n",
    "    \n",
    "#import and calculate average ReMSEs TABI\n",
    "\n",
    "data_1 = hdf5storage.loadmat('/Users/florianwittstock/Documents/ms_thesis_example/TARIS/Amortized/New_Experiment/AMCI_VERSIOM/amci/src/amci/q1/samples_should_use.mat')\n",
    "data_2 = hdf5storage.loadmat('/Users/florianwittstock/Documents/ms_thesis_example/TARIS/Amortized/New_Experiment/AMCI_VERSIOM/amci/src/amci/q2/samples_old.mat')\n",
    "\n",
    "ground_truth_array = compute_ground_truth_TABI(data_1)\n",
    "\n",
    "results_TABI = {}\n",
    "for n in n_values:\n",
    "    print(f\"Computing for n = {n}\")\n",
    "    results_TABI[n] = compute_TABI_for_n(data_1, data_2, n, ground_truth_array)\n",
    "\n",
    "average_ReMSE_TABI = [np.mean(results_TABI[n][0]) for n in n_values]\n",
    "\n",
    "\n",
    "plt.loglog(n_values, average_ReMSE_TABI, 'o-', base=10)\n",
    "plt.loglog(n_values, average_ReMSE_TARIS, 'o-', base=10)\n",
    "plt.xlabel('Sample Size', fontsize=14)\n",
    "plt.ylabel('ReMSE', fontsize=14)\n",
    "plt.title('ReMSE Comparison of TABI and TARIS', fontsize=14)\n",
    "plt.grid(True, which=\"both\", ls=\"--\", c='0.65')\n",
    "plt.legend(['TABI', 'TARIS'])"
   ]
  }
 ],
 "metadata": {
  "kernelspec": {
   "display_name": "amci",
   "language": "python",
   "name": "python3"
  },
  "language_info": {
   "codemirror_mode": {
    "name": "ipython",
    "version": 3
   },
   "file_extension": ".py",
   "mimetype": "text/x-python",
   "name": "python",
   "nbconvert_exporter": "python",
   "pygments_lexer": "ipython3",
   "version": "3.11.4"
  },
  "orig_nbformat": 4
 },
 "nbformat": 4,
 "nbformat_minor": 2
}
