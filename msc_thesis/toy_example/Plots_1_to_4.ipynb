{
 "cells": [
  {
   "cell_type": "markdown",
   "metadata": {},
   "source": [
    "### Plot 1"
   ]
  },
  {
   "cell_type": "code",
   "execution_count": null,
   "metadata": {},
   "outputs": [],
   "source": [
    "import numpy as np\n",
    "import scipy as sp\n",
    "import matplotlib.pyplot as plt\n",
    "\n",
    "#Define and plot optimal proposal\n",
    "ground_truth = 0.03283152373679992\n",
    "def joint_density(x):\n",
    "    return sp.stats.gamma.pdf(x, a=5, loc=0, scale=4) * sp.stats.norm.pdf(5, loc=x, scale=1)\n",
    "def optimal_proposal(x):\n",
    "    return np.abs(np.minimum(15000, np.maximum(0, 50*(x-8)**5)) - ground_truth) * joint_density(x)\n",
    "def target_joint_density(x):\n",
    "    return np.minimum(15000, np.maximum(0, 50*(x-8)**5)) * joint_density(x)\n",
    "def alternative_proposal(x):\n",
    "    return np.sqrt(target_joint_density(x)*joint_density(x))\n",
    "\n",
    "#plot optimal proposal\n",
    "x = np.linspace(0, 12, 1000)\n",
    "plt.figure(figsize=(10, 5))\n",
    "plt.plot(x,8*optimal_proposal(x), label='Optimal TARIS proposal')\n",
    "plt.plot(x,joint_density(x), label='p(x,y)')\n",
    "plt.plot(x,20*target_joint_density(x), label='f(x)p(x,y)')\n",
    "plt.xlabel('x')\n",
    "plt.xlim(2, 12)\n",
    "plt.legend()\n"
   ]
  },
  {
   "attachments": {},
   "cell_type": "markdown",
   "metadata": {},
   "source": [
    "### Plot 2"
   ]
  },
  {
   "cell_type": "code",
   "execution_count": null,
   "metadata": {},
   "outputs": [],
   "source": [
    "### using scikit learn\n",
    "import numpy as np\n",
    "import scipy as sp\n",
    "import matplotlib.pyplot as plt\n",
    "from sklearn.mixture import GaussianMixture\n",
    "from scipy.stats import norm\n",
    "\n",
    "#Define and plot optimal proposal\n",
    "ground_truth = 0.03283152373679992\n",
    "def joint_density(x):\n",
    "    return sp.stats.gamma.pdf(x, a=5, loc=0, scale=4) * sp.stats.norm.pdf(5, loc=x, scale=1)\n",
    "def optimal_proposal(x):\n",
    "    return np.abs(np.minimum(15000, np.maximum(0, 50*(x-8)**5)) - ground_truth) * joint_density(x)\n",
    "\n",
    "# Generate synthetic data\n",
    "np.random.seed(0)\n",
    "samples1 = np.random.normal(5.75, 1.5, 1000)\n",
    "samples2 = np.random.normal(9.2, 0.5, 1000)\n",
    "combined_samples = np.concatenate((samples1, samples2)).reshape(-1, 1)\n",
    "\n",
    "# Fit a Gaussian Mixture Model with 2 components\n",
    "gmm = GaussianMixture(n_components=2)\n",
    "gmm.fit(combined_samples)\n",
    "\n",
    "# Generate samples from the fitted GMM\n",
    "generated_samples = gmm.sample(2000)[0]\n",
    "\n",
    "#evaluate density of the generated samples\n",
    "log_density_of_generated_samples = gmm.score_samples(generated_samples.reshape(-1, 1))\n",
    "density_of_generated_samples = np.exp(log_density_of_generated_samples)\n",
    "\n",
    "# Plot the histogram of the samples\n",
    "plt.hist(generated_samples, bins=50, density=True, alpha=0.6)\n",
    "\n",
    "# Plot the individual Gaussian components of the GMM\n",
    "x = np.linspace(2, 12, 1000)\n",
    "plt.plot(x, norm.pdf(x, gmm.means_[0][0], np.sqrt(gmm.covariances_[0][0][0])), label='Component 1', color='red')\n",
    "plt.plot(x, norm.pdf(x, gmm.means_[1][0], np.sqrt(gmm.covariances_[1][0][0])), label='Component 2', color='blue')\n",
    "plt.plot(x, 1900*optimal_proposal(x), label='Optimal TARIS proposal', color='green')\n",
    "\n",
    "plt.xlabel(\"Value\")\n",
    "plt.ylabel(\"Density\")\n",
    "plt.title(\"Gaussian Mixture Model with Two Components\")\n",
    "plt.legend()\n"
   ]
  },
  {
   "cell_type": "markdown",
   "metadata": {},
   "source": [
    "### Plot 3"
   ]
  },
  {
   "cell_type": "code",
   "execution_count": null,
   "metadata": {},
   "outputs": [],
   "source": [
    "import numpy as np  \n",
    "import matplotlib.pyplot as plt\n",
    "from TARIS import TARIS_GMM_PROPOSAL\n",
    "\n",
    "result_100k = TARIS_GMM_PROPOSAL(100,101000)\n",
    "\n",
    "#extract results from TARIS.ipynb file\n",
    "r_plot_100k = result_100k['ratio_estimate_per_iteration']\n",
    "\n",
    "#calculate averages\n",
    "result_100k = r_plot_100k[5:]\n",
    "averages_100k  = np.zeros(95)\n",
    "\n",
    "for i in range(95):\n",
    "    averages_100k[i] = np.mean(result_100k[:i+1])\n",
    "    \n",
    "averages_100k\n",
    "np.var(averages_100k)\n",
    "\n",
    "ground_truth = 0.03283152373679992\n",
    "\n",
    "#plot experiment results and averages\n",
    "plt.figure(figsize=(10,10))\n",
    "plt.plot(r_plot_100k)\n",
    "plt.plot(averages_100k)\n",
    "plt.axhline(y=ground_truth, color='r', linestyle='--')\n",
    "plt.legend(['TARIS','Averaged TARIS','Ground truth'])"
   ]
  },
  {
   "cell_type": "markdown",
   "metadata": {},
   "source": [
    "### Plot 4"
   ]
  },
  {
   "cell_type": "code",
   "execution_count": null,
   "metadata": {},
   "outputs": [],
   "source": [
    "from TARIS import TARIS_GMM_PROPOSAL, calculate_TARIS_ReMSE, compute_TABI\n",
    "\n",
    "result_100 = TARIS_GMM_PROPOSAL(1000,1100)\n",
    "result_1k = TARIS_GMM_PROPOSAL(1000,2000)\n",
    "result_10k = TARIS_GMM_PROPOSAL(100,11000)\n",
    "\n",
    "ReMSE_10k, ReMSE_1k, ReMSE_100, total_samples_1k, total_samples_10k, total_samples_100 \\\n",
    "    = calculate_TARIS_ReMSE(result_100, result_1k, result_10k)\n",
    "\n",
    "#calculate ReMSE for TABI\n",
    "total_samples_TABI = np.unique(np.concatenate((total_samples_100, total_samples_1k, total_samples_10k)))/2\n",
    "total_samples_TABI = total_samples_TABI.astype(int)\n",
    "\n",
    "results_TABI = {n: compute_TABI(n, n) for n in total_samples_TABI}\n",
    "\n",
    "#extract results and ReMSE\n",
    "Re_MSEs_TABI = [results_TABI[n]['ReMSE'] for n in total_samples_TABI]\n",
    "ReMSE_TABI = np.array(Re_MSEs_TABI)\n",
    "\n",
    "# plot the ReMSEs\n",
    "plt.figure(figsize=(10, 6))\n",
    "plt.plot(total_samples_1k, ReMSE_1k, label='ReMSE 1k')\n",
    "plt.plot(total_samples_10k, ReMSE_10k, label='ReMSE 10k')\n",
    "plt.plot(total_samples_100, ReMSE_100, label='ReMSE 100')\n",
    "plt.plot(total_samples_TABI, Re_MSEs_TABI, label='ReMSE TABI')\n",
    "\n",
    "plt.xscale('log')\n",
    "plt.yscale('log')\n",
    "\n",
    "plt.xlabel('Total Samples Used')\n",
    "plt.ylabel('Relative Mean Squared Error (ReMSE)')\n",
    "plt.title('ReMSE of different N valued functions against total samples used')\n",
    "plt.legend()\n",
    "plt.grid(True, which=\"both\", ls=\"--\", linewidth=0.5)\n"
   ]
  }
 ],
 "metadata": {
  "kernelspec": {
   "display_name": "msc_thesis",
   "language": "python",
   "name": "python3"
  },
  "language_info": {
   "codemirror_mode": {
    "name": "ipython",
    "version": 3
   },
   "file_extension": ".py",
   "mimetype": "text/x-python",
   "name": "python",
   "nbconvert_exporter": "python",
   "pygments_lexer": "ipython3",
   "version": "3.11.4"
  },
  "orig_nbformat": 4
 },
 "nbformat": 4,
 "nbformat_minor": 2
}
